{
 "cells": [
  {
   "cell_type": "markdown",
   "id": "c6d1356a",
   "metadata": {},
   "source": [
    "# Q1. Who developed Python programming language?\n",
    "# Answer:- Python is a popular programming language. It was created by Guido van Rossum, and released in 1991."
   ]
  },
  {
   "cell_type": "markdown",
   "id": "36232a5c",
   "metadata": {},
   "source": [
    "# Q2.Which type of programming does python sopport?\n",
    "# Answer: - Python is an interpreted programming language, supporting object-oriented, structured, and functional programming."
   ]
  },
  {
   "cell_type": "markdown",
   "id": "229869c9",
   "metadata": {},
   "source": [
    "# Q3.Is python is case sensitive when dealing with identifires?\n",
    "# Answer:- Yes."
   ]
  },
  {
   "cell_type": "markdown",
   "id": "9a2844b1",
   "metadata": {},
   "source": [
    "# Q4.What is the correct extension for python file?\n",
    "# Answer:- .py"
   ]
  },
  {
   "cell_type": "markdown",
   "id": "c51e2db8",
   "metadata": {},
   "source": [
    "# Q5. is python code is compiled or interpreted?\n",
    "# Answer:- interpreted."
   ]
  },
  {
   "cell_type": "markdown",
   "id": "55685141",
   "metadata": {},
   "source": [
    "# Q6. Name few blocks of code used to define in python language?\n",
    "\n",
    "# Answer:- a module, a function body, and a class definition. Each command typed interactively is a block"
   ]
  },
  {
   "cell_type": "markdown",
   "id": "05d7a418",
   "metadata": {},
   "source": [
    "# Q7. State a character used to give single- comment in python?\n",
    "# Answer:- (#)"
   ]
  },
  {
   "cell_type": "markdown",
   "id": "b9239000",
   "metadata": {},
   "source": [
    "# Q8.Mention function name which used to find version of python?\n",
    "# Answer:-"
   ]
  },
  {
   "cell_type": "code",
   "execution_count": 9,
   "id": "1aa540f1",
   "metadata": {},
   "outputs": [
    {
     "name": "stdout",
     "output_type": "stream",
     "text": [
      "3.9.12\n"
     ]
    }
   ],
   "source": [
    "from platform import python_version\n",
    "print(python_version())"
   ]
  },
  {
   "cell_type": "markdown",
   "id": "c4ac0a61",
   "metadata": {},
   "source": [
    "# Q9. Python supports the creation of anonymous fuction at a run time, using construct called_ _ _\n",
    "# Answer:- lambda"
   ]
  },
  {
   "cell_type": "markdown",
   "id": "ea270ae6",
   "metadata": {},
   "source": [
    "# Q10. what does pip stand for?\n",
    "# Answer: - preferred installer program(pip)"
   ]
  },
  {
   "cell_type": "markdown",
   "id": "ec9af1b5",
   "metadata": {},
   "source": [
    "# Q11.Mention few built in fuction in python?\n",
    "# Answer=> print(), type(), max(),min(), input()"
   ]
  },
  {
   "cell_type": "markdown",
   "id": "a8129380",
   "metadata": {},
   "source": [
    "# Q12.What is the maximum length of an identifier in python?\n",
    "# Answer:- 79 characters"
   ]
  },
  {
   "cell_type": "markdown",
   "id": "0a24184a",
   "metadata": {},
   "source": [
    "# Q13.What is the benefits of using python?\n",
    "# Answer:-Python programming is a general-purpose skill used in almost all fields, including: \n",
    "\n",
    "# Data science\n",
    "# Scientific and mathematical computing\n",
    "# Web development\n",
    "# Finance and trading\n",
    "# System automation and administration\n",
    "# Computer graphics etc."
   ]
  },
  {
   "cell_type": "markdown",
   "id": "a0b4e9d5",
   "metadata": {},
   "source": [
    "# Q14.How memory managed in python?\n",
    "# Answer:- Memory management in Python involves a private heap containing all Python objects and data structures. The management of this private heap is ensured internally by the Python memory manager."
   ]
  },
  {
   "cell_type": "markdown",
   "id": "7ee72601",
   "metadata": {},
   "source": [
    "# Q15.How to install python and set path variable?\n",
    "# Answer:- The complete path of python.exe can be added by:\n",
    "\n",
    "# Right-clicking This PC and going to Properties.\n",
    "\n",
    "# Clicking on the Advanced system settings in the menu on the left.\n",
    "\n",
    "# Clicking on the Environment Variables button o​n the bottom right.\n",
    "\n",
    "# In the System variables section, selecting the Path variable and clicking on Edit. The next screen will show all the directories that are currently a part of the PATH variable.\n",
    "\n",
    "# Clicking on New and entering Python’s install directory."
   ]
  },
  {
   "cell_type": "markdown",
   "id": "86ce3288",
   "metadata": {},
   "source": [
    "# Q16.Is indentation is required in python?\n",
    "# Answer: Yes"
   ]
  },
  {
   "cell_type": "code",
   "execution_count": null,
   "id": "5a737f46",
   "metadata": {},
   "outputs": [],
   "source": []
  }
 ],
 "metadata": {
  "kernelspec": {
   "display_name": "Python 3 (ipykernel)",
   "language": "python",
   "name": "python3"
  },
  "language_info": {
   "codemirror_mode": {
    "name": "ipython",
    "version": 3
   },
   "file_extension": ".py",
   "mimetype": "text/x-python",
   "name": "python",
   "nbconvert_exporter": "python",
   "pygments_lexer": "ipython3",
   "version": "3.9.12"
  }
 },
 "nbformat": 4,
 "nbformat_minor": 5
}
